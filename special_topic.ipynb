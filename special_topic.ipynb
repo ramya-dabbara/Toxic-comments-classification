{
  "nbformat": 4,
  "nbformat_minor": 0,
  "metadata": {
    "colab": {
      "provenance": []
    },
    "kernelspec": {
      "name": "python3",
      "display_name": "Python 3"
    },
    "language_info": {
      "name": "python"
    }
  },
  "cells": [
    {
      "cell_type": "code",
      "execution_count": 10,
      "metadata": {
        "id": "oofylTWhanfw"
      },
      "outputs": [],
      "source": [
        "import numpy as np\n",
        "import pandas as pd\n",
        "from matplotlib import pyplot as plt\n",
        "%matplotlib inline\n",
        "import seaborn as sns\n",
        "import re\n",
        "import zipfile"
      ]
    },
    {
      "cell_type": "code",
      "source": [
        "# Will unzip the files so that you can see them..\n",
        "with zipfile.ZipFile(\"/content/archive.zip\",\"r\") as z:\n",
        "    z.extractall(\".\")"
      ],
      "metadata": {
        "id": "WaEXmcJonpw6"
      },
      "execution_count": 11,
      "outputs": []
    },
    {
      "cell_type": "code",
      "source": [
        "import os\n",
        "for dirname, _, filenames in os.walk('/content/archive.zip'):\n",
        "    for filename in filenames:\n",
        "        print(os.path.join(dirname, filename))"
      ],
      "metadata": {
        "id": "HLUWAush6ODJ"
      },
      "execution_count": 14,
      "outputs": []
    },
    {
      "cell_type": "code",
      "source": [
        "# prepare text samples and their labels\n",
        "print('Loading in comments...')\n",
        "\n",
        "data = pd.read_csv(\"/content/archive/train.csv\")\n",
        "print(data.head())"
      ],
      "metadata": {
        "id": "GrG0gmxM6RYE",
        "colab": {
          "base_uri": "https://localhost:8080/"
        },
        "outputId": "70c0ab2e-26eb-43cf-f418-176aa18bc205"
      },
      "execution_count": 17,
      "outputs": [
        {
          "output_type": "stream",
          "name": "stdout",
          "text": [
            "Loading in comments...\n",
            "                 id                                       comment_text  toxic  \\\n",
            "0  0000997932d777bf  Explanation\\nWhy the edits made under my usern...      0   \n",
            "1  000103f0d9cfb60f  D'aww! He matches this background colour I'm s...      0   \n",
            "2  000113f07ec002fd  Hey man, I'm really not trying to edit war. It...      0   \n",
            "3  0001b41b1c6bb37e  \"\\nMore\\nI can't make any real suggestions on ...      0   \n",
            "4  0001d958c54c6e35  You, sir, are my hero. Any chance you remember...      0   \n",
            "\n",
            "   severe_toxic  obscene  threat  insult  identity_hate  \n",
            "0             0        0       0       0              0  \n",
            "1             0        0       0       0              0  \n",
            "2             0        0       0       0              0  \n",
            "3             0        0       0       0              0  \n",
            "4             0        0       0       0              0  \n"
          ]
        }
      ]
    },
    {
      "cell_type": "code",
      "source": [
        "# Feature Imformation\n",
        "data.columns"
      ],
      "metadata": {
        "id": "kvlgw5Qg6URy",
        "colab": {
          "base_uri": "https://localhost:8080/"
        },
        "outputId": "ed4ff889-dfcd-45de-9dd7-db53ed5c06a4"
      },
      "execution_count": 18,
      "outputs": [
        {
          "output_type": "execute_result",
          "data": {
            "text/plain": [
              "Index(['id', 'comment_text', 'toxic', 'severe_toxic', 'obscene', 'threat',\n",
              "       'insult', 'identity_hate'],\n",
              "      dtype='object')"
            ]
          },
          "metadata": {},
          "execution_count": 18
        }
      ]
    },
    {
      "cell_type": "code",
      "source": [
        "# Data Dimension\n",
        "data.shape"
      ],
      "metadata": {
        "id": "CYMtG2nv6XVm",
        "colab": {
          "base_uri": "https://localhost:8080/"
        },
        "outputId": "411136f1-bfb7-460d-a13c-e1bc3bf98366"
      },
      "execution_count": 19,
      "outputs": [
        {
          "output_type": "execute_result",
          "data": {
            "text/plain": [
              "(159571, 8)"
            ]
          },
          "metadata": {},
          "execution_count": 19
        }
      ]
    },
    {
      "cell_type": "code",
      "source": [
        "cols_target = ['obscene','insult','toxic','severe_toxic','identity_hate','threat']"
      ],
      "metadata": {
        "id": "X-QVyBxv6b_S"
      },
      "execution_count": 20,
      "outputs": []
    },
    {
      "cell_type": "code",
      "source": [
        "# Check Missing Value\n",
        "\n",
        "print(data[\"comment_text\"].isna().sum())\n",
        "\n",
        "# dropna"
      ],
      "metadata": {
        "id": "ovFXgTX96fBR",
        "colab": {
          "base_uri": "https://localhost:8080/"
        },
        "outputId": "53288c3c-d059-4706-e67c-52aac1513af8"
      },
      "execution_count": 21,
      "outputs": [
        {
          "output_type": "stream",
          "name": "stdout",
          "text": [
            "0\n"
          ]
        }
      ]
    },
    {
      "cell_type": "code",
      "source": [
        "# check missing values in numeric columns\n",
        "data.describe()"
      ],
      "metadata": {
        "id": "ZwCa468e6jGx",
        "colab": {
          "base_uri": "https://localhost:8080/",
          "height": 297
        },
        "outputId": "4d620f62-61e3-40fe-a381-1c8bde64a711"
      },
      "execution_count": 22,
      "outputs": [
        {
          "output_type": "execute_result",
          "data": {
            "text/plain": [
              "               toxic   severe_toxic        obscene         threat  \\\n",
              "count  159571.000000  159571.000000  159571.000000  159571.000000   \n",
              "mean        0.095844       0.009996       0.052948       0.002996   \n",
              "std         0.294379       0.099477       0.223931       0.054650   \n",
              "min         0.000000       0.000000       0.000000       0.000000   \n",
              "25%         0.000000       0.000000       0.000000       0.000000   \n",
              "50%         0.000000       0.000000       0.000000       0.000000   \n",
              "75%         0.000000       0.000000       0.000000       0.000000   \n",
              "max         1.000000       1.000000       1.000000       1.000000   \n",
              "\n",
              "              insult  identity_hate  \n",
              "count  159571.000000  159571.000000  \n",
              "mean        0.049364       0.008805  \n",
              "std         0.216627       0.093420  \n",
              "min         0.000000       0.000000  \n",
              "25%         0.000000       0.000000  \n",
              "50%         0.000000       0.000000  \n",
              "75%         0.000000       0.000000  \n",
              "max         1.000000       1.000000  "
            ],
            "text/html": [
              "\n",
              "  <div id=\"df-82b18448-64d1-411e-99a3-d10e038a9778\" class=\"colab-df-container\">\n",
              "    <div>\n",
              "<style scoped>\n",
              "    .dataframe tbody tr th:only-of-type {\n",
              "        vertical-align: middle;\n",
              "    }\n",
              "\n",
              "    .dataframe tbody tr th {\n",
              "        vertical-align: top;\n",
              "    }\n",
              "\n",
              "    .dataframe thead th {\n",
              "        text-align: right;\n",
              "    }\n",
              "</style>\n",
              "<table border=\"1\" class=\"dataframe\">\n",
              "  <thead>\n",
              "    <tr style=\"text-align: right;\">\n",
              "      <th></th>\n",
              "      <th>toxic</th>\n",
              "      <th>severe_toxic</th>\n",
              "      <th>obscene</th>\n",
              "      <th>threat</th>\n",
              "      <th>insult</th>\n",
              "      <th>identity_hate</th>\n",
              "    </tr>\n",
              "  </thead>\n",
              "  <tbody>\n",
              "    <tr>\n",
              "      <th>count</th>\n",
              "      <td>159571.000000</td>\n",
              "      <td>159571.000000</td>\n",
              "      <td>159571.000000</td>\n",
              "      <td>159571.000000</td>\n",
              "      <td>159571.000000</td>\n",
              "      <td>159571.000000</td>\n",
              "    </tr>\n",
              "    <tr>\n",
              "      <th>mean</th>\n",
              "      <td>0.095844</td>\n",
              "      <td>0.009996</td>\n",
              "      <td>0.052948</td>\n",
              "      <td>0.002996</td>\n",
              "      <td>0.049364</td>\n",
              "      <td>0.008805</td>\n",
              "    </tr>\n",
              "    <tr>\n",
              "      <th>std</th>\n",
              "      <td>0.294379</td>\n",
              "      <td>0.099477</td>\n",
              "      <td>0.223931</td>\n",
              "      <td>0.054650</td>\n",
              "      <td>0.216627</td>\n",
              "      <td>0.093420</td>\n",
              "    </tr>\n",
              "    <tr>\n",
              "      <th>min</th>\n",
              "      <td>0.000000</td>\n",
              "      <td>0.000000</td>\n",
              "      <td>0.000000</td>\n",
              "      <td>0.000000</td>\n",
              "      <td>0.000000</td>\n",
              "      <td>0.000000</td>\n",
              "    </tr>\n",
              "    <tr>\n",
              "      <th>25%</th>\n",
              "      <td>0.000000</td>\n",
              "      <td>0.000000</td>\n",
              "      <td>0.000000</td>\n",
              "      <td>0.000000</td>\n",
              "      <td>0.000000</td>\n",
              "      <td>0.000000</td>\n",
              "    </tr>\n",
              "    <tr>\n",
              "      <th>50%</th>\n",
              "      <td>0.000000</td>\n",
              "      <td>0.000000</td>\n",
              "      <td>0.000000</td>\n",
              "      <td>0.000000</td>\n",
              "      <td>0.000000</td>\n",
              "      <td>0.000000</td>\n",
              "    </tr>\n",
              "    <tr>\n",
              "      <th>75%</th>\n",
              "      <td>0.000000</td>\n",
              "      <td>0.000000</td>\n",
              "      <td>0.000000</td>\n",
              "      <td>0.000000</td>\n",
              "      <td>0.000000</td>\n",
              "      <td>0.000000</td>\n",
              "    </tr>\n",
              "    <tr>\n",
              "      <th>max</th>\n",
              "      <td>1.000000</td>\n",
              "      <td>1.000000</td>\n",
              "      <td>1.000000</td>\n",
              "      <td>1.000000</td>\n",
              "      <td>1.000000</td>\n",
              "      <td>1.000000</td>\n",
              "    </tr>\n",
              "  </tbody>\n",
              "</table>\n",
              "</div>\n",
              "    <div class=\"colab-df-buttons\">\n",
              "\n",
              "  <div class=\"colab-df-container\">\n",
              "    <button class=\"colab-df-convert\" onclick=\"convertToInteractive('df-82b18448-64d1-411e-99a3-d10e038a9778')\"\n",
              "            title=\"Convert this dataframe to an interactive table.\"\n",
              "            style=\"display:none;\">\n",
              "\n",
              "  <svg xmlns=\"http://www.w3.org/2000/svg\" height=\"24px\" viewBox=\"0 -960 960 960\">\n",
              "    <path d=\"M120-120v-720h720v720H120Zm60-500h600v-160H180v160Zm220 220h160v-160H400v160Zm0 220h160v-160H400v160ZM180-400h160v-160H180v160Zm440 0h160v-160H620v160ZM180-180h160v-160H180v160Zm440 0h160v-160H620v160Z\"/>\n",
              "  </svg>\n",
              "    </button>\n",
              "\n",
              "  <style>\n",
              "    .colab-df-container {\n",
              "      display:flex;\n",
              "      gap: 12px;\n",
              "    }\n",
              "\n",
              "    .colab-df-convert {\n",
              "      background-color: #E8F0FE;\n",
              "      border: none;\n",
              "      border-radius: 50%;\n",
              "      cursor: pointer;\n",
              "      display: none;\n",
              "      fill: #1967D2;\n",
              "      height: 32px;\n",
              "      padding: 0 0 0 0;\n",
              "      width: 32px;\n",
              "    }\n",
              "\n",
              "    .colab-df-convert:hover {\n",
              "      background-color: #E2EBFA;\n",
              "      box-shadow: 0px 1px 2px rgba(60, 64, 67, 0.3), 0px 1px 3px 1px rgba(60, 64, 67, 0.15);\n",
              "      fill: #174EA6;\n",
              "    }\n",
              "\n",
              "    .colab-df-buttons div {\n",
              "      margin-bottom: 4px;\n",
              "    }\n",
              "\n",
              "    [theme=dark] .colab-df-convert {\n",
              "      background-color: #3B4455;\n",
              "      fill: #D2E3FC;\n",
              "    }\n",
              "\n",
              "    [theme=dark] .colab-df-convert:hover {\n",
              "      background-color: #434B5C;\n",
              "      box-shadow: 0px 1px 3px 1px rgba(0, 0, 0, 0.15);\n",
              "      filter: drop-shadow(0px 1px 2px rgba(0, 0, 0, 0.3));\n",
              "      fill: #FFFFFF;\n",
              "    }\n",
              "  </style>\n",
              "\n",
              "    <script>\n",
              "      const buttonEl =\n",
              "        document.querySelector('#df-82b18448-64d1-411e-99a3-d10e038a9778 button.colab-df-convert');\n",
              "      buttonEl.style.display =\n",
              "        google.colab.kernel.accessAllowed ? 'block' : 'none';\n",
              "\n",
              "      async function convertToInteractive(key) {\n",
              "        const element = document.querySelector('#df-82b18448-64d1-411e-99a3-d10e038a9778');\n",
              "        const dataTable =\n",
              "          await google.colab.kernel.invokeFunction('convertToInteractive',\n",
              "                                                    [key], {});\n",
              "        if (!dataTable) return;\n",
              "\n",
              "        const docLinkHtml = 'Like what you see? Visit the ' +\n",
              "          '<a target=\"_blank\" href=https://colab.research.google.com/notebooks/data_table.ipynb>data table notebook</a>'\n",
              "          + ' to learn more about interactive tables.';\n",
              "        element.innerHTML = '';\n",
              "        dataTable['output_type'] = 'display_data';\n",
              "        await google.colab.output.renderOutput(dataTable, element);\n",
              "        const docLink = document.createElement('div');\n",
              "        docLink.innerHTML = docLinkHtml;\n",
              "        element.appendChild(docLink);\n",
              "      }\n",
              "    </script>\n",
              "  </div>\n",
              "\n",
              "\n",
              "<div id=\"df-abff7d12-e21f-4f6c-90c6-d1b8b675c8de\">\n",
              "  <button class=\"colab-df-quickchart\" onclick=\"quickchart('df-abff7d12-e21f-4f6c-90c6-d1b8b675c8de')\"\n",
              "            title=\"Suggest charts.\"\n",
              "            style=\"display:none;\">\n",
              "\n",
              "<svg xmlns=\"http://www.w3.org/2000/svg\" height=\"24px\"viewBox=\"0 0 24 24\"\n",
              "     width=\"24px\">\n",
              "    <g>\n",
              "        <path d=\"M19 3H5c-1.1 0-2 .9-2 2v14c0 1.1.9 2 2 2h14c1.1 0 2-.9 2-2V5c0-1.1-.9-2-2-2zM9 17H7v-7h2v7zm4 0h-2V7h2v10zm4 0h-2v-4h2v4z\"/>\n",
              "    </g>\n",
              "</svg>\n",
              "  </button>\n",
              "\n",
              "<style>\n",
              "  .colab-df-quickchart {\n",
              "      --bg-color: #E8F0FE;\n",
              "      --fill-color: #1967D2;\n",
              "      --hover-bg-color: #E2EBFA;\n",
              "      --hover-fill-color: #174EA6;\n",
              "      --disabled-fill-color: #AAA;\n",
              "      --disabled-bg-color: #DDD;\n",
              "  }\n",
              "\n",
              "  [theme=dark] .colab-df-quickchart {\n",
              "      --bg-color: #3B4455;\n",
              "      --fill-color: #D2E3FC;\n",
              "      --hover-bg-color: #434B5C;\n",
              "      --hover-fill-color: #FFFFFF;\n",
              "      --disabled-bg-color: #3B4455;\n",
              "      --disabled-fill-color: #666;\n",
              "  }\n",
              "\n",
              "  .colab-df-quickchart {\n",
              "    background-color: var(--bg-color);\n",
              "    border: none;\n",
              "    border-radius: 50%;\n",
              "    cursor: pointer;\n",
              "    display: none;\n",
              "    fill: var(--fill-color);\n",
              "    height: 32px;\n",
              "    padding: 0;\n",
              "    width: 32px;\n",
              "  }\n",
              "\n",
              "  .colab-df-quickchart:hover {\n",
              "    background-color: var(--hover-bg-color);\n",
              "    box-shadow: 0 1px 2px rgba(60, 64, 67, 0.3), 0 1px 3px 1px rgba(60, 64, 67, 0.15);\n",
              "    fill: var(--button-hover-fill-color);\n",
              "  }\n",
              "\n",
              "  .colab-df-quickchart-complete:disabled,\n",
              "  .colab-df-quickchart-complete:disabled:hover {\n",
              "    background-color: var(--disabled-bg-color);\n",
              "    fill: var(--disabled-fill-color);\n",
              "    box-shadow: none;\n",
              "  }\n",
              "\n",
              "  .colab-df-spinner {\n",
              "    border: 2px solid var(--fill-color);\n",
              "    border-color: transparent;\n",
              "    border-bottom-color: var(--fill-color);\n",
              "    animation:\n",
              "      spin 1s steps(1) infinite;\n",
              "  }\n",
              "\n",
              "  @keyframes spin {\n",
              "    0% {\n",
              "      border-color: transparent;\n",
              "      border-bottom-color: var(--fill-color);\n",
              "      border-left-color: var(--fill-color);\n",
              "    }\n",
              "    20% {\n",
              "      border-color: transparent;\n",
              "      border-left-color: var(--fill-color);\n",
              "      border-top-color: var(--fill-color);\n",
              "    }\n",
              "    30% {\n",
              "      border-color: transparent;\n",
              "      border-left-color: var(--fill-color);\n",
              "      border-top-color: var(--fill-color);\n",
              "      border-right-color: var(--fill-color);\n",
              "    }\n",
              "    40% {\n",
              "      border-color: transparent;\n",
              "      border-right-color: var(--fill-color);\n",
              "      border-top-color: var(--fill-color);\n",
              "    }\n",
              "    60% {\n",
              "      border-color: transparent;\n",
              "      border-right-color: var(--fill-color);\n",
              "    }\n",
              "    80% {\n",
              "      border-color: transparent;\n",
              "      border-right-color: var(--fill-color);\n",
              "      border-bottom-color: var(--fill-color);\n",
              "    }\n",
              "    90% {\n",
              "      border-color: transparent;\n",
              "      border-bottom-color: var(--fill-color);\n",
              "    }\n",
              "  }\n",
              "</style>\n",
              "\n",
              "  <script>\n",
              "    async function quickchart(key) {\n",
              "      const quickchartButtonEl =\n",
              "        document.querySelector('#' + key + ' button');\n",
              "      quickchartButtonEl.disabled = true;  // To prevent multiple clicks.\n",
              "      quickchartButtonEl.classList.add('colab-df-spinner');\n",
              "      try {\n",
              "        const charts = await google.colab.kernel.invokeFunction(\n",
              "            'suggestCharts', [key], {});\n",
              "      } catch (error) {\n",
              "        console.error('Error during call to suggestCharts:', error);\n",
              "      }\n",
              "      quickchartButtonEl.classList.remove('colab-df-spinner');\n",
              "      quickchartButtonEl.classList.add('colab-df-quickchart-complete');\n",
              "    }\n",
              "    (() => {\n",
              "      let quickchartButtonEl =\n",
              "        document.querySelector('#df-abff7d12-e21f-4f6c-90c6-d1b8b675c8de button');\n",
              "      quickchartButtonEl.style.display =\n",
              "        google.colab.kernel.accessAllowed ? 'block' : 'none';\n",
              "    })();\n",
              "  </script>\n",
              "</div>\n",
              "    </div>\n",
              "  </div>\n"
            ]
          },
          "metadata": {},
          "execution_count": 22
        }
      ]
    },
    {
      "cell_type": "code",
      "source": [
        "unlabelled_in_all = data[(data['toxic']!=1) & (data['severe_toxic']!=1) &\n",
        "                             (data['obscene']!=1) & (data['threat']!=1) &\n",
        "                             (data['insult']!=1) & (data['identity_hate']!=1)]\n",
        "print('Percentage of unlabelled comments or good comments is ', len(unlabelled_in_all)/len(data)*100)"
      ],
      "metadata": {
        "id": "LpCyJow76lmb",
        "colab": {
          "base_uri": "https://localhost:8080/"
        },
        "outputId": "5327daec-d8eb-4669-c401-77dffa9f7b46"
      },
      "execution_count": 23,
      "outputs": [
        {
          "output_type": "stream",
          "name": "stdout",
          "text": [
            "Percentage of unlabelled comments or good comments is  89.83211235124176\n"
          ]
        }
      ]
    },
    {
      "cell_type": "code",
      "source": [
        "labelled_in_all = data[(data['toxic']==1) & (data['severe_toxic']==1) &\n",
        "                             (data['obscene']==1) & (data['threat']==1) &\n",
        "                             (data['insult']==1) & (data['identity_hate']==1)]\n",
        "print('Percentage of comments which is present in all categories is ', len(labelled_in_all)/len(data)*100)"
      ],
      "metadata": {
        "id": "E-aOwA1_6pgH",
        "colab": {
          "base_uri": "https://localhost:8080/"
        },
        "outputId": "14c657a9-e7f3-4dce-8818-3cab562f8ca0"
      },
      "execution_count": 24,
      "outputs": [
        {
          "output_type": "stream",
          "name": "stdout",
          "text": [
            "Percentage of comments which is present in all categories is  0.019427088882065038\n"
          ]
        }
      ]
    },
    {
      "cell_type": "code",
      "source": [
        "# let's see the total rows in train, test data and the numbers for the various categories\n",
        "print('Total rows in train is {}'.format(len(data)))\n",
        "print(data[cols_target].sum())"
      ],
      "metadata": {
        "id": "heFxfRwo6uyM",
        "colab": {
          "base_uri": "https://localhost:8080/"
        },
        "outputId": "be266098-4266-4b5d-c9e4-0a40534f3c66"
      },
      "execution_count": 25,
      "outputs": [
        {
          "output_type": "stream",
          "name": "stdout",
          "text": [
            "Total rows in train is 159571\n",
            "obscene           8449\n",
            "insult            7877\n",
            "toxic            15294\n",
            "severe_toxic      1595\n",
            "identity_hate     1405\n",
            "threat             478\n",
            "dtype: int64\n"
          ]
        }
      ]
    },
    {
      "cell_type": "code",
      "source": [
        "target_data = data[cols_target]\n",
        "colormap = plt.cm.plasma\n",
        "plt.figure(figsize=(7,7))\n",
        "plt.title('Correlation of features & targets',y=1.05,size=14)\n",
        "sns.heatmap(target_data.astype(float).corr(),linewidths=0.1,vmax=1.0,square=True,cmap=colormap,\n",
        "           linecolor='white',annot=True)"
      ],
      "metadata": {
        "id": "-a0Ql-jF6v1-",
        "colab": {
          "base_uri": "https://localhost:8080/",
          "height": 647
        },
        "outputId": "2d65d5a9-7326-43c7-b45c-de1cf9eaba6e"
      },
      "execution_count": 26,
      "outputs": [
        {
          "output_type": "execute_result",
          "data": {
            "text/plain": [
              "<Axes: title={'center': 'Correlation of features & targets'}>"
            ]
          },
          "metadata": {},
          "execution_count": 26
        },
        {
          "output_type": "display_data",
          "data": {
            "text/plain": [
              "<Figure size 700x700 with 2 Axes>"
            ],
            "image/png": "[encoded data removed]"
          },
          "metadata": {}
        }
      ]
    },
    {
      "cell_type": "code",
      "source": [
        "data['block'] =data[cols_target].sum(axis =1)\n",
        "print(data['block'].value_counts())\n",
        "data['block'] = data['block'] > 0\n",
        "data['block'] = data['block'].astype(int)\n",
        "print(data['block'].value_counts())"
      ],
      "metadata": {
        "id": "UTQ26x5k6zKF",
        "colab": {
          "base_uri": "https://localhost:8080/"
        },
        "outputId": "63ed951e-c22d-4980-c91a-74d2cd1aa282"
      },
      "execution_count": 27,
      "outputs": [
        {
          "output_type": "stream",
          "name": "stdout",
          "text": [
            "0    143346\n",
            "1      6360\n",
            "3      4209\n",
            "2      3480\n",
            "4      1760\n",
            "5       385\n",
            "6        31\n",
            "Name: block, dtype: int64\n",
            "0    143346\n",
            "1     16225\n",
            "Name: block, dtype: int64\n"
          ]
        }
      ]
    },
    {
      "cell_type": "code",
      "source": [
        "# look at the count plot for text length\n",
        "sns.set()\n",
        "sns.countplot(x=\"block\" , data = data )\n",
        "plt.show()"
      ],
      "metadata": {
        "id": "cfQenOBr63jn",
        "colab": {
          "base_uri": "https://localhost:8080/",
          "height": 458
        },
        "outputId": "b148d39a-84dd-4664-fe48-c8d8b658ba21"
      },
      "execution_count": 28,
      "outputs": [
        {
          "output_type": "display_data",
          "data": {
            "text/plain": [
              "<Figure size 640x480 with 1 Axes>"
            ],
            "image/png": "[encoded data removed]"
          },
          "metadata": {}
        }
      ]
    },
    {
      "cell_type": "code",
      "source": [
        "# Event Rate\n",
        "\n",
        "print(\"Percentage Event Rate : \" , round(100*data['block'].sum()/data.shape[0],2) , \"%\")"
      ],
      "metadata": {
        "id": "4sfC-3FS68-h",
        "colab": {
          "base_uri": "https://localhost:8080/"
        },
        "outputId": "9e8ba3bb-efed-4fe1-df6d-8ef4cf6e5c57"
      },
      "execution_count": 29,
      "outputs": [
        {
          "output_type": "stream",
          "name": "stdout",
          "text": [
            "Percentage Event Rate :  10.17 %\n"
          ]
        }
      ]
    },
    {
      "cell_type": "code",
      "source": [
        "# Let's look at the character length for the rows in the training data and record these\n",
        "data['char_length'] = data['comment_text'].apply(lambda x: len(str(x)))"
      ],
      "metadata": {
        "id": "l73MIg0E7AJn"
      },
      "execution_count": 30,
      "outputs": []
    },
    {
      "cell_type": "code",
      "source": [
        "# look at the histogram plot for text length\n",
        "sns.set()\n",
        "data['char_length'].hist()\n",
        "plt.show()"
      ],
      "metadata": {
        "id": "B7r_NiFr7Fu6",
        "colab": {
          "base_uri": "https://localhost:8080/",
          "height": 434
        },
        "outputId": "d87f4f0d-7fb9-4607-9e3f-6f81a395d3dc"
      },
      "execution_count": 31,
      "outputs": [
        {
          "output_type": "display_data",
          "data": {
            "text/plain": [
              "<Figure size 640x480 with 1 Axes>"
            ],
            "image/png": "[encoded data removed]"
          },
          "metadata": {}
        }
      ]
    },
    {
      "cell_type": "code",
      "source": [
        "def clean_text(text):\n",
        "    text = text.lower()\n",
        "    text = re.sub(r\"what's\", \"what is \", text)\n",
        "    text = re.sub(r\"\\'s\", \" \", text)\n",
        "    text = re.sub(r\"\\'ve\", \" have \", text)\n",
        "    text = re.sub(r\"can't\", \"cannot \", text)\n",
        "    text = re.sub(r\"n't\", \" not \", text)\n",
        "    text = re.sub(r\"i'm\", \"i am \", text)\n",
        "    text = re.sub(r\"\\'re\", \" are \", text)\n",
        "    text = re.sub(r\"\\'d\", \" would \", text)\n",
        "    text = re.sub(r\"\\'ll\", \" will \", text)\n",
        "    text = re.sub(r\"\\'scuse\", \" excuse \", text)\n",
        "    text = re.sub('\\W', ' ', text)\n",
        "    text = re.sub('\\s+', ' ', text)\n",
        "    text = text.strip(' ')\n",
        "    return text"
      ],
      "metadata": {
        "id": "Ub4ls1OO7JAB"
      },
      "execution_count": 32,
      "outputs": []
    },
    {
      "cell_type": "code",
      "source": [
        "%%time\n",
        "# clean the comment_text in train_df [Thanks to Pulkit Jha for the useful pointer.]\n",
        "data['comment_text'] = data['comment_text'].map(lambda com : clean_text(com))"
      ],
      "metadata": {
        "id": "51k2Dn0r7Nal",
        "colab": {
          "base_uri": "https://localhost:8080/"
        },
        "outputId": "4b8e842a-25ed-4c04-e47b-15e416182f20"
      },
      "execution_count": 33,
      "outputs": [
        {
          "output_type": "stream",
          "name": "stdout",
          "text": [
            "CPU times: user 11.8 s, sys: 29.9 ms, total: 11.8 s\n",
            "Wall time: 11.9 s\n"
          ]
        }
      ]
    },
    {
      "cell_type": "code",
      "source": [
        "from sklearn.model_selection import train_test_split\n",
        "\n",
        "X_train, X_test, y_train, y_test = train_test_split(data['comment_text'], data['block'], test_size=0.2, random_state=42)"
      ],
      "metadata": {
        "id": "WsFY0IGY7Rc4"
      },
      "execution_count": 34,
      "outputs": []
    },
    {
      "cell_type": "code",
      "source": [
        "print(X_train.shape, X_test.shape)\n",
        "print(y_train.shape, y_test.shape)"
      ],
      "metadata": {
        "id": "ATxwvvV67T4G",
        "colab": {
          "base_uri": "https://localhost:8080/"
        },
        "outputId": "801d34bc-b614-4996-e484-8143d0ace897"
      },
      "execution_count": 35,
      "outputs": [
        {
          "output_type": "stream",
          "name": "stdout",
          "text": [
            "(127656,) (31915,)\n",
            "(127656,) (31915,)\n"
          ]
        }
      ]
    },
    {
      "cell_type": "code",
      "source": [
        "# import and instantiate TfidfVectorizer\n",
        "from sklearn.feature_extraction.text import CountVectorizer\n",
        "from sklearn.feature_extraction.text import TfidfVectorizer\n",
        "vect = TfidfVectorizer(max_features = 10000, stop_words='english')\n",
        "#vect = TfidfVectorizer(stop_words='english')\n",
        "print(vect)"
      ],
      "metadata": {
        "id": "wS5qWG1b7ZDn",
        "colab": {
          "base_uri": "https://localhost:8080/"
        },
        "outputId": "76affd75-6e7c-43dd-ce49-50b807faa9b1"
      },
      "execution_count": 36,
      "outputs": [
        {
          "output_type": "stream",
          "name": "stdout",
          "text": [
            "TfidfVectorizer(max_features=10000, stop_words='english')\n"
          ]
        }
      ]
    },
    {
      "cell_type": "code",
      "source": [
        "%%time\n",
        "# learn the vocabulary in the training data, then use it to create a document-term matrix\n",
        "X_train_dtm = vect.fit_transform(X_train)\n",
        "# examine the document-term matrix created from X_train\n",
        "X_train_dtm"
      ],
      "metadata": {
        "id": "WDoUH_qF7bwP",
        "colab": {
          "base_uri": "https://localhost:8080/"
        },
        "outputId": "c2e56b35-1246-43b7-e49c-e4bcc2af8b8a"
      },
      "execution_count": 37,
      "outputs": [
        {
          "output_type": "stream",
          "name": "stdout",
          "text": [
            "CPU times: user 8.6 s, sys: 92.4 ms, total: 8.69 s\n",
            "Wall time: 11.6 s\n"
          ]
        },
        {
          "output_type": "execute_result",
          "data": {
            "text/plain": [
              "<127656x10000 sparse matrix of type '<class 'numpy.float64'>'\n",
              "\twith 2792162 stored elements in Compressed Sparse Row format>"
            ]
          },
          "metadata": {},
          "execution_count": 37
        }
      ]
    },
    {
      "cell_type": "code",
      "source": [
        "X_train_dtm.shape"
      ],
      "metadata": {
        "id": "mI1oKaLg7emx",
        "colab": {
          "base_uri": "https://localhost:8080/"
        },
        "outputId": "effc0261-da58-4cce-b5b4-8c59eaae1911"
      },
      "execution_count": 38,
      "outputs": [
        {
          "output_type": "execute_result",
          "data": {
            "text/plain": [
              "(127656, 10000)"
            ]
          },
          "metadata": {},
          "execution_count": 38
        }
      ]
    },
    {
      "cell_type": "code",
      "source": [
        "100*2792162/ (127656*10000)"
      ],
      "metadata": {
        "id": "DBNq7NLf7haS",
        "colab": {
          "base_uri": "https://localhost:8080/"
        },
        "outputId": "b1c08919-0661-4605-90e4-a766fae186c5"
      },
      "execution_count": 39,
      "outputs": [
        {
          "output_type": "execute_result",
          "data": {
            "text/plain": [
              "0.2187254809801341"
            ]
          },
          "metadata": {},
          "execution_count": 39
        }
      ]
    },
    {
      "cell_type": "code",
      "source": [
        "%%time\n",
        "# transform the test data using the earlier fitted vocabulary, into a document-term matrix\n",
        "X_test_dtm = vect.transform(X_test)\n",
        "# examine the document-term matrix from X_test\n",
        "X_test_dtm"
      ],
      "metadata": {
        "id": "MOn79b037kPg",
        "colab": {
          "base_uri": "https://localhost:8080/"
        },
        "outputId": "7fb850c2-58e5-4f03-c0b5-fb8f48110684"
      },
      "execution_count": 40,
      "outputs": [
        {
          "output_type": "stream",
          "name": "stdout",
          "text": [
            "CPU times: user 1.66 s, sys: 8.06 ms, total: 1.67 s\n",
            "Wall time: 1.68 s\n"
          ]
        },
        {
          "output_type": "execute_result",
          "data": {
            "text/plain": [
              "<31915x10000 sparse matrix of type '<class 'numpy.float64'>'\n",
              "\twith 688258 stored elements in Compressed Sparse Row format>"
            ]
          },
          "metadata": {},
          "execution_count": 40
        }
      ]
    },
    {
      "cell_type": "code",
      "source": [
        "# import and instantiate the Logistic Regression model\n",
        "from sklearn.linear_model import LogisticRegression\n",
        "from sklearn.metrics import accuracy_score\n",
        "from sklearn.metrics import confusion_matrix\n",
        "logreg = LogisticRegression(C=1, max_iter = 2000)\n",
        "\n",
        "\n",
        "\n",
        "# train the model using X_train_dtm & y_train\n",
        "logreg.fit(X_train_dtm, y_train)\n",
        "# compute the training accuracy\n",
        "y_pred_train = logreg.predict(X_train_dtm)\n",
        "print('Training accuracy is {}'.format(accuracy_score(y_train, y_pred_train)))\n",
        "# compute the predicted probabilities for X_test_dtm\n",
        "y_pred_test = logreg.predict(X_test_dtm)\n",
        "print('Test accuracy is {}'.format(accuracy_score(y_test,y_pred_test)))\n",
        "print(confusion_matrix(y_test,y_pred_test))"
      ],
      "metadata": {
        "id": "OD8zllpV7n_V",
        "colab": {
          "base_uri": "https://localhost:8080/"
        },
        "outputId": "fa117cc1-4eec-4008-d90b-0928b6522dd9"
      },
      "execution_count": 41,
      "outputs": [
        {
          "output_type": "stream",
          "name": "stdout",
          "text": [
            "Training accuracy is 0.9594613649182178\n",
            "Test accuracy is 0.9563214789284036\n",
            "[[28507   164]\n",
            " [ 1230  2014]]\n"
          ]
        }
      ]
    },
    {
      "cell_type": "code",
      "source": [
        "#28507 -> comments  are good and predeicted as good\n",
        "#2014 -> comments are block and predicted as block\n",
        "#164 -> comments are good but predicted as block\n",
        "#1230 -> comments are block but predicted as good"
      ],
      "metadata": {
        "id": "_XzdjBoX7wie"
      },
      "execution_count": 42,
      "outputs": []
    },
    {
      "cell_type": "code",
      "source": [
        "(28507 + 2014)/(28507+2014+164+1230)"
      ],
      "metadata": {
        "id": "cqA0A7xh7xQY",
        "colab": {
          "base_uri": "https://localhost:8080/"
        },
        "outputId": "f0dce8ee-0929-4cb7-dd74-0be4d22a3232"
      },
      "execution_count": 43,
      "outputs": [
        {
          "output_type": "execute_result",
          "data": {
            "text/plain": [
              "0.9563214789284036"
            ]
          },
          "metadata": {},
          "execution_count": 43
        }
      ]
    }
  ]
}